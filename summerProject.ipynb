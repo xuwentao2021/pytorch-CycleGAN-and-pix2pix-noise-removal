{
 "cells": [
  {
   "cell_type": "markdown",
   "metadata": {},
   "source": [
    "# Notebook for summer project\n",
    "## Install the module"
   ]
  },
  {
   "cell_type": "code",
   "execution_count": null,
   "metadata": {},
   "outputs": [],
   "source": [
    "!git clone https://github.com/xuwentao2021/pytorch-CycleGAN-and-pix2pix-noise-removal"
   ]
  },
  {
   "cell_type": "code",
   "execution_count": null,
   "metadata": {},
   "outputs": [],
   "source": [
    "# !git pull"
   ]
  },
  {
   "cell_type": "code",
   "execution_count": null,
   "metadata": {},
   "outputs": [],
   "source": [
    "import os\n",
    "os.chdir('pytorch-CycleGAN-and-pix2pix-noise-removal/')"
   ]
  },
  {
   "cell_type": "code",
   "execution_count": null,
   "metadata": {},
   "outputs": [],
   "source": [
    "!pip install -r requirements.txt\n",
    "\n",
    "# check GPU status\n",
    "!nvidia-smi"
   ]
  },
  {
   "cell_type": "markdown",
   "metadata": {},
   "source": [
    "## Visualisation tool preperation\n",
    "```shell\n",
    "python -m visdom.server\n",
    "```\n",
    "> Run in a new console"
   ]
  },
  {
   "cell_type": "code",
   "execution_count": 2,
   "metadata": {},
   "outputs": [
    {
     "name": "stderr",
     "output_type": "stream",
     "text": [
      "wandb: Network error (SSLError), entering retry loop.\n",
      "wandb: W&B API key is configured. Use `wandb login --relogin` to force relogin\n"
     ]
    }
   ],
   "source": [
    "# login wandb for online visualisation\n",
    "!wandb login"
   ]
  },
  {
   "cell_type": "markdown",
   "metadata": {},
   "source": [
    "## Download and unzip the pretrain models\n",
    "\n",
    "```shell\n",
    "bash ./checkpoints/download_cyclegan_pretrain.sh\n",
    "bash ./checkpoints/download_moecyclegan_pretrain.sh\n",
    "```"
   ]
  },
  {
   "cell_type": "code",
   "execution_count": null,
   "metadata": {},
   "outputs": [],
   "source": [
    "!bash ./checkpoints/download_cyclegan_pretrain.sh\n",
    "!bash ./checkpoints/download_moecyclegan_pretrain.sh"
   ]
  },
  {
   "cell_type": "markdown",
   "metadata": {},
   "source": [
    "## deepMoEs-cycleGAN New train code"
   ]
  },
  {
   "cell_type": "code",
   "execution_count": null,
   "metadata": {},
   "outputs": [],
   "source": [
    "!python train.py --dataroot ./datasets/thesis_train_eg/ --name deepmoe_cyclegan_train_eg --batch_size 5 --model moe_cycle_gan --input_nc 1 --output_nc 1 --netG moe_resnet_9blocks --dataset_mode unaligned_flag --load_size 256 --embedding_epochs 15 --norm batch --use_wandb --lambda_MoE 1"
   ]
  },
  {
   "cell_type": "markdown",
   "metadata": {},
   "source": [
    "## deepMoEs-cycleGAN continue train code\n",
    "> In case colab stops the train\n",
    "\n",
    "Compared with new train code, add `--continue_train --epoch_count ##`, where ## is the epoch count when last train stopped."
   ]
  },
  {
   "cell_type": "code",
   "execution_count": null,
   "metadata": {},
   "outputs": [],
   "source": [
    "!python train.py --dataroot ./datasets/thesis_train_eg/ --name deepmoe_cyclegan_train_eg --batch_size 5 --model moe_cycle_gan --input_nc 1 --output_nc 1 --netG moe_resnet_9blocks --dataset_mode unaligned_flag --load_size 256 --embedding_epochs 15 --norm batch --use_wandb --lambda_MoE 1 --continue_train --epoch_count 16"
   ]
  },
  {
   "cell_type": "markdown",
   "metadata": {},
   "source": [
    "## deepMoEs-cycleGAN inference code \n",
    "> use segment inference\n",
    "\n",
    "The processed images are saved on ./results/"
   ]
  },
  {
   "cell_type": "code",
   "execution_count": null,
   "metadata": {},
   "outputs": [],
   "source": [
    "!python segment_inference.py --dataroot ./datasets/thesis_inference_eg/ --name deepmoe_cyclegan_inference_eg --model moe_test --input_nc 1 --output_nc 1 --netG moe_resnet_9blocks --dataset_mode img_seg --load_size 256 --num_threads 1 --eval --norm batch --serial_batches --model_suffix _A --batch_size 1 --no_dropout --num_procs 1\n"
   ]
  },
  {
   "cell_type": "markdown",
   "metadata": {},
   "source": [
    "## cycleGAN New train code"
   ]
  },
  {
   "cell_type": "code",
   "execution_count": null,
   "metadata": {},
   "outputs": [],
   "source": [
    "!python train.py --dataroot ./datasets/thesis_train_eg/ --name cyclegan_train_eg --batch_size 5 --model cycle_gan --input_nc 1 --output_nc 1 --netG resnet_9blocks --dataset_mode unaligned --load_size 256 --norm batch --use_wandb"
   ]
  },
  {
   "cell_type": "markdown",
   "metadata": {},
   "source": [
    "## cycleGAN continue train code\n",
    "> In case colab stops the train\n",
    "\n",
    "Compared with new train code, add `--continue_train --epoch_count ##`, where ## is the epoch count when last train stopped."
   ]
  },
  {
   "cell_type": "code",
   "execution_count": null,
   "metadata": {},
   "outputs": [],
   "source": [
    "!python train.py --dataroot ./datasets/thesis_train_eg/ --name cyclegan_train_eg --batch_size 5 --model cycle_gan --input_nc 1 --output_nc 1 --netG resnet_9blocks --dataset_mode unaligned --load_size 256 --norm batch --use_wandb --continue_train --epoch_count ##"
   ]
  },
  {
   "cell_type": "markdown",
   "metadata": {},
   "source": [
    "## cycleGAN inference code \n",
    "> use segment inference\n",
    "\n",
    "The processed images are saved on ./results/"
   ]
  },
  {
   "cell_type": "code",
   "execution_count": 4,
   "metadata": {},
   "outputs": [
    {
     "name": "stdout",
     "output_type": "stream",
     "text": [
      "----------------- Options ---------------\n",
      "             aspect_ratio: 1.0                           \n",
      "               batch_size: 1                             \n",
      "          checkpoints_dir: ./checkpoints                 \n",
      "                crop_size: 256                           \n",
      "                 dataroot: ./datasets/thesis_inference_eg/\t[default: None]\n",
      "             dataset_mode: img_seg                       \t[default: single]\n",
      "                direction: AtoB                          \n",
      "          display_winsize: 256                           \n",
      "                    epoch: 60                            \t[default: latest]\n",
      "                     eval: True                          \t[default: False]\n",
      "                  gpu_ids: 0                             \n",
      "                init_gain: 0.02                          \n",
      "                init_type: normal                        \n",
      "                 input_nc: 1                             \t[default: 3]\n",
      "                  isTrain: False                         \t[default: None]\n",
      "                load_iter: 0                             \t[default: 0]\n",
      "                load_size: 256                           \n",
      "         max_dataset_size: inf                           \n",
      "                    model: test                          \n",
      "             model_suffix: _A                            \t[default: ]\n",
      "               n_layers_D: 3                             \n",
      "                     name: cyclegan_inference_eg         \t[default: experiment_name]\n",
      "                      ndf: 64                            \n",
      "                     netD: basic                         \n",
      "                     netG: resnet_9blocks                \n",
      "                      ngf: 64                            \n",
      "               no_dropout: True                          \t[default: False]\n",
      "                  no_flip: False                         \n",
      "                     norm: batch                         \t[default: instance]\n",
      "                num_procs: 1                             \t[default: 4]\n",
      "                 num_test: 50                            \n",
      "              num_threads: 1                             \t[default: 4]\n",
      "                output_nc: 1                             \t[default: 3]\n",
      "                    phase: test                          \n",
      "               preprocess: resize_and_crop               \n",
      "              results_dir: ./results/                    \n",
      "           serial_batches: True                          \t[default: False]\n",
      "                   suffix:                               \n",
      "                use_wandb: False                         \n",
      "                  verbose: False                         \n",
      "----------------- End -------------------\n",
      "Totally  19  images to be processed\n",
      "initialize network with normal\n",
      "model [TestModel] was created\n",
      "loading the model from ./checkpoints\\cyclegan_inference_eg\\60_net_G_A.pth\n",
      "---------- Networks initialized -------------\n",
      "[Network G_A] Total number of parameters : 11.371 M\n",
      "-----------------------------------------------\n",
      "\n",
      "Image has totolly 192 patches...\n",
      "Extracting...\n",
      "\n",
      "Processing image ['./datasets/thesis_inference_eg/testA\\\\CPN-3216591-32884817_2.png'] ...\n"
     ]
    },
    {
     "name": "stderr",
     "output_type": "stream",
     "text": [
      "\n",
      "0it [00:00, ?it/s]\n",
      "0it [00:00, ?it/s]\n",
      "Process Process-1:\n",
      "Traceback (most recent call last):\n",
      "  File \"d:\\python\\lib\\multiprocessing\\process.py\", line 315, in _bootstrap\n",
      "    self.run()\n",
      "  File \"d:\\python\\lib\\multiprocessing\\process.py\", line 108, in run\n",
      "    self._target(*self._args, **self._kwargs)\n",
      "  File \"d:\\DataSciProg\\model\\pytorch-CycleGAN-and-pix2pix-noise-removal\\segment_inference.py\", line 144, in run_inference\n",
      "    model.set_input(transform_img2tensor(img_seg)[None,:,:,:])  # unpack data from data loader\n",
      "  File \"d:\\DataSciProg\\model\\pytorch-CycleGAN-and-pix2pix-noise-removal\\models\\test_model.py\", line 60, in set_input\n",
      "    self.real = input['A'].to(self.device)\n",
      "TypeError: new(): invalid data type 'str'\n"
     ]
    }
   ],
   "source": [
    "!python segment_inference.py --dataroot ./datasets/thesis_inference_eg/ --name cyclegan_inference_eg --model moe_test --input_nc 1 --output_nc 1 --netG resnet_9blocks --dataset_mode img_seg --load_size 256 --num_threads 1 --eval --norm batch --serial_batches --model_suffix _A --batch_size 1 --no_dropout --epoch 60 --num_procs 1"
   ]
  }
 ],
 "metadata": {
  "kernelspec": {
   "display_name": "Python 3.10.4 64-bit",
   "language": "python",
   "name": "python3"
  },
  "language_info": {
   "codemirror_mode": {
    "name": "ipython",
    "version": 3
   },
   "file_extension": ".py",
   "mimetype": "text/x-python",
   "name": "python",
   "nbconvert_exporter": "python",
   "pygments_lexer": "ipython3",
   "version": "3.10.4"
  },
  "orig_nbformat": 4,
  "vscode": {
   "interpreter": {
    "hash": "865d8b2eb28e274047ba64063dfb6a2aabf0dfec4905d304d7a76618dae6fdd4"
   }
  }
 },
 "nbformat": 4,
 "nbformat_minor": 2
}
